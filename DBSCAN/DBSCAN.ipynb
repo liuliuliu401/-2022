{
 "cells": [
  {
   "cell_type": "markdown",
   "metadata": {},
   "source": [
    "## 数学建模-常见聚类模型汇总\n",
    "在数学建模中，聚类算法是数据分析类题目中较为常见的方法。聚类算法试图通过对对象进行分组来发现数据集中的相似性，从而使同一聚类中的对象彼此之间的相似性高于与另一个聚类中的对象的相似性。\n",
    "数据分析类题目分为如下几个环节：\n",
    "<ol>\n",
    "<li>数据搜集。</li>\n",
    "<li>数据预处理。</li>\n",
    "<li>量化与特征提取。</li>\n",
    "<li>评价。</li>\n",
    "<li>聚类与分析决策。</li>\n",
    "</ol> \n",
    "\n",
    "以下讲重点介绍常见聚类与预测模型，以及其sklearn API的说明和使用，作为数模竞赛的参考。\n",
    "\n",
    "<div style=\"text-align: center; width: 500px; \">\n",
    "<img src=\"data_analysis.png\", width=640, heigth=500>\n",
    "</div>"
   ]
  },
  {
   "cell_type": "markdown",
   "metadata": {},
   "source": [
    "### K-Means\n",
    "K-means是最常见的无监督学习算法之一。这类算法试图“学习”未标记数据集中的模式，发现相似性或规律性。常见的无监督任务包括聚类和关联。 \n",
    "K-means通过最小化几何点之间的平均距离将相似的数据点组合成簇。它迭代地将数据集划分为固定数量（K）的非重叠子组（或集群），其中每个数据点属于具有最近平均集群中心的集群。 \n",
    "\n",
    "\n",
    "参考内容：\n",
    ">[1]https://zhuanlan.zhihu.com/p/136842949\n",
    "\n",
    ">[2]https://www.nvidia.com/en-us/glossary/data-science/k-means/"
   ]
  },
  {
   "cell_type": "code",
   "execution_count": 36,
   "metadata": {},
   "outputs": [
    {
     "data": {
      "text/plain": [
       "<matplotlib.collections.PathCollection at 0x227eefd8f70>"
      ]
     },
     "execution_count": 36,
     "metadata": {},
     "output_type": "execute_result"
    },
    {
     "data": {
      "image/png": "[encoded data removed]",
      "text/plain": [
       "<Figure size 432x288 with 1 Axes>"
      ]
     },
     "metadata": {
      "needs_background": "light"
     },
     "output_type": "display_data"
    }
   ],
   "source": [
    "from sklearn.cluster import KMeans\n",
    "import numpy as np\n",
    "import matplotlib.pyplot as plt\n",
    "from sklearn.datasets import make_blobs\n",
    "\n",
    "X, _ = make_blobs(n_samples=30, centers=2, random_state=0)\n",
    "# use sklearn.datasets.make_blobs to generate data is another choice.\n",
    "kmeans = KMeans(n_clusters=4, random_state=0).fit(X)\n",
    "labels = kmeans.labels_\n",
    "centers = kmeans.cluster_centers_\n",
    "plt.scatter(X[:,0], X[:,1], c=labels, s=10) \n",
    "plt.scatter(centers[:,0], centers[:,1], c=\"r\", s=100, marker=\"x\")  "
   ]
  },
  {
   "cell_type": "markdown",
   "metadata": {},
   "source": [
    "### DBSCAN"
   ]
  }
 ],
 "metadata": {
  "kernelspec": {
   "display_name": "Python 3.8.8 ('base')",
   "language": "python",
   "name": "python3"
  },
  "language_info": {
   "codemirror_mode": {
    "name": "ipython",
    "version": 3
   },
   "file_extension": ".py",
   "mimetype": "text/x-python",
   "name": "python",
   "nbconvert_exporter": "python",
   "pygments_lexer": "ipython3",
   "version": "3.8.8"
  },
  "orig_nbformat": 4,
  "vscode": {
   "interpreter": {
    "hash": "f76d4fda128b12615e46e0e8dd834a222e7abd956eb53de74309670d1db4104c"
   }
  }
 },
 "nbformat": 4,
 "nbformat_minor": 2
}
